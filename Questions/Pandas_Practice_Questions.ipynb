{
 "cells": [
  {
   "cell_type": "markdown",
   "id": "85b215f4-8fed-42b5-8e79-c247ca6406df",
   "metadata": {},
   "source": [
    "1. How to create a series from a list, numpy array and dict?"
   ]
  },
  {
   "cell_type": "code",
   "execution_count": 1,
   "id": "b89ea1c5-1da7-49d6-8fa3-9336b23b54b1",
   "metadata": {},
   "outputs": [],
   "source": [
    "# importing necessary python libraries\n",
    "import numpy as np\n",
    "import pandas as pd"
   ]
  },
  {
   "cell_type": "code",
   "execution_count": 4,
   "id": "749b9e33-3274-4764-8938-aea9517b4ac9",
   "metadata": {},
   "outputs": [],
   "source": [
    "# inputs\n",
    "word_list = list(['Nishan Limbu', 'Saru Limbu', 'Priya Limbu'])\n",
    "numpy_array = np.arange(1, 11)\n",
    "alphabet_dictionary = {'A': 0, 'B': 1, 'C': 2, 'D':3, 'E':4, 'F':5}"
   ]
  },
  {
   "cell_type": "code",
   "execution_count": 5,
   "id": "860622da-acd2-4c1b-8541-d31f6c120858",
   "metadata": {},
   "outputs": [],
   "source": [
    "# creating a series from the above inputs\n",
    "series1 = pd.Series(word_list)\n",
    "series2 = pd.Series(numpy_array)\n",
    "series3 = pd.Series(alphabet_dictionary)\n"
   ]
  },
  {
   "cell_type": "code",
   "execution_count": 6,
   "id": "36cf8b3f-15b4-45de-b3d5-1db4fe112deb",
   "metadata": {},
   "outputs": [
    {
     "name": "stdout",
     "output_type": "stream",
     "text": [
      "0    Nishan Limbu\n",
      "1      Saru Limbu\n",
      "2     Priya Limbu\n",
      "dtype: object\n",
      "0     1\n",
      "1     2\n",
      "2     3\n",
      "3     4\n",
      "4     5\n",
      "5     6\n",
      "6     7\n",
      "7     8\n",
      "8     9\n",
      "9    10\n",
      "dtype: int64\n",
      "A    0\n",
      "B    1\n",
      "C    2\n",
      "D    3\n",
      "E    4\n",
      "F    5\n",
      "dtype: int64\n"
     ]
    }
   ],
   "source": [
    "# printing all the series\n",
    "print(series1)\n",
    "print(series2)\n",
    "print(series3)"
   ]
  },
  {
   "cell_type": "code",
   "execution_count": null,
   "id": "59bc3a41-529a-4ef0-968d-e359e167b45e",
   "metadata": {},
   "outputs": [],
   "source": []
  },
  {
   "cell_type": "markdown",
   "id": "60324ea3-07de-482f-8aa7-85668b1a8e94",
   "metadata": {},
   "source": [
    "2. How to combine many series to form a dataframe?"
   ]
  },
  {
   "cell_type": "code",
   "execution_count": 7,
   "id": "1556c875-a1cd-42f6-b31e-2cc2c8812121",
   "metadata": {},
   "outputs": [],
   "source": [
    "# input of two series\n",
    "series1 = pd.Series(word_list)\n",
    "series2 = pd.Series(numpy_array)"
   ]
  },
  {
   "cell_type": "code",
   "execution_count": 8,
   "id": "c15bf30e-254e-4715-a4ed-d1b070297a52",
   "metadata": {},
   "outputs": [
    {
     "data": {
      "text/html": [
       "<div>\n",
       "<style scoped>\n",
       "    .dataframe tbody tr th:only-of-type {\n",
       "        vertical-align: middle;\n",
       "    }\n",
       "\n",
       "    .dataframe tbody tr th {\n",
       "        vertical-align: top;\n",
       "    }\n",
       "\n",
       "    .dataframe thead th {\n",
       "        text-align: right;\n",
       "    }\n",
       "</style>\n",
       "<table border=\"1\" class=\"dataframe\">\n",
       "  <thead>\n",
       "    <tr style=\"text-align: right;\">\n",
       "      <th></th>\n",
       "      <th>index</th>\n",
       "      <th>0</th>\n",
       "    </tr>\n",
       "  </thead>\n",
       "  <tbody>\n",
       "    <tr>\n",
       "      <th>0</th>\n",
       "      <td>1</td>\n",
       "      <td>Saru Limbu</td>\n",
       "    </tr>\n",
       "    <tr>\n",
       "      <th>1</th>\n",
       "      <td>2</td>\n",
       "      <td>Priya Limbu</td>\n",
       "    </tr>\n",
       "    <tr>\n",
       "      <th>2</th>\n",
       "      <td>3</td>\n",
       "      <td>NaN</td>\n",
       "    </tr>\n",
       "    <tr>\n",
       "      <th>3</th>\n",
       "      <td>4</td>\n",
       "      <td>NaN</td>\n",
       "    </tr>\n",
       "    <tr>\n",
       "      <th>4</th>\n",
       "      <td>5</td>\n",
       "      <td>NaN</td>\n",
       "    </tr>\n",
       "    <tr>\n",
       "      <th>5</th>\n",
       "      <td>6</td>\n",
       "      <td>NaN</td>\n",
       "    </tr>\n",
       "    <tr>\n",
       "      <th>6</th>\n",
       "      <td>7</td>\n",
       "      <td>NaN</td>\n",
       "    </tr>\n",
       "    <tr>\n",
       "      <th>7</th>\n",
       "      <td>8</td>\n",
       "      <td>NaN</td>\n",
       "    </tr>\n",
       "    <tr>\n",
       "      <th>8</th>\n",
       "      <td>9</td>\n",
       "      <td>NaN</td>\n",
       "    </tr>\n",
       "    <tr>\n",
       "      <th>9</th>\n",
       "      <td>10</td>\n",
       "      <td>NaN</td>\n",
       "    </tr>\n",
       "  </tbody>\n",
       "</table>\n",
       "</div>"
      ],
      "text/plain": [
       "   index            0\n",
       "0      1   Saru Limbu\n",
       "1      2  Priya Limbu\n",
       "2      3          NaN\n",
       "3      4          NaN\n",
       "4      5          NaN\n",
       "5      6          NaN\n",
       "6      7          NaN\n",
       "7      8          NaN\n",
       "8      9          NaN\n",
       "9     10          NaN"
      ]
     },
     "execution_count": 8,
     "metadata": {},
     "output_type": "execute_result"
    }
   ],
   "source": [
    "# using pandas DataFrame\n",
    "df = pd.DataFrame(series1, series2).reset_index()\n",
    "df"
   ]
  },
  {
   "cell_type": "code",
   "execution_count": 9,
   "id": "f58f0d9b-08c7-4f3e-b856-a03ab5844ac4",
   "metadata": {},
   "outputs": [
    {
     "data": {
      "text/html": [
       "<div>\n",
       "<style scoped>\n",
       "    .dataframe tbody tr th:only-of-type {\n",
       "        vertical-align: middle;\n",
       "    }\n",
       "\n",
       "    .dataframe tbody tr th {\n",
       "        vertical-align: top;\n",
       "    }\n",
       "\n",
       "    .dataframe thead th {\n",
       "        text-align: right;\n",
       "    }\n",
       "</style>\n",
       "<table border=\"1\" class=\"dataframe\">\n",
       "  <thead>\n",
       "    <tr style=\"text-align: right;\">\n",
       "      <th></th>\n",
       "      <th>col-1</th>\n",
       "      <th>col-2</th>\n",
       "    </tr>\n",
       "  </thead>\n",
       "  <tbody>\n",
       "    <tr>\n",
       "      <th>0</th>\n",
       "      <td>Nishan Limbu</td>\n",
       "      <td>1</td>\n",
       "    </tr>\n",
       "    <tr>\n",
       "      <th>1</th>\n",
       "      <td>Saru Limbu</td>\n",
       "      <td>2</td>\n",
       "    </tr>\n",
       "    <tr>\n",
       "      <th>2</th>\n",
       "      <td>Priya Limbu</td>\n",
       "      <td>3</td>\n",
       "    </tr>\n",
       "    <tr>\n",
       "      <th>3</th>\n",
       "      <td>NaN</td>\n",
       "      <td>4</td>\n",
       "    </tr>\n",
       "    <tr>\n",
       "      <th>4</th>\n",
       "      <td>NaN</td>\n",
       "      <td>5</td>\n",
       "    </tr>\n",
       "  </tbody>\n",
       "</table>\n",
       "</div>"
      ],
      "text/plain": [
       "          col-1  col-2\n",
       "0  Nishan Limbu      1\n",
       "1    Saru Limbu      2\n",
       "2   Priya Limbu      3\n",
       "3           NaN      4\n",
       "4           NaN      5"
      ]
     },
     "execution_count": 9,
     "metadata": {},
     "output_type": "execute_result"
    }
   ],
   "source": [
    "# using pandas DataFrame with a dictionary, gives specific columns name\n",
    "df = pd.DataFrame({'col-1':series1, 'col-2':series2})\n",
    "df.head()"
   ]
  },
  {
   "cell_type": "code",
   "execution_count": 11,
   "id": "bab71f30-8bb1-4949-b1eb-46c0a80cb8ef",
   "metadata": {},
   "outputs": [
    {
     "data": {
      "text/html": [
       "<div>\n",
       "<style scoped>\n",
       "    .dataframe tbody tr th:only-of-type {\n",
       "        vertical-align: middle;\n",
       "    }\n",
       "\n",
       "    .dataframe tbody tr th {\n",
       "        vertical-align: top;\n",
       "    }\n",
       "\n",
       "    .dataframe thead th {\n",
       "        text-align: right;\n",
       "    }\n",
       "</style>\n",
       "<table border=\"1\" class=\"dataframe\">\n",
       "  <thead>\n",
       "    <tr style=\"text-align: right;\">\n",
       "      <th></th>\n",
       "      <th>0</th>\n",
       "      <th>1</th>\n",
       "    </tr>\n",
       "  </thead>\n",
       "  <tbody>\n",
       "    <tr>\n",
       "      <th>0</th>\n",
       "      <td>Nishan Limbu</td>\n",
       "      <td>1</td>\n",
       "    </tr>\n",
       "    <tr>\n",
       "      <th>1</th>\n",
       "      <td>Saru Limbu</td>\n",
       "      <td>2</td>\n",
       "    </tr>\n",
       "    <tr>\n",
       "      <th>2</th>\n",
       "      <td>Priya Limbu</td>\n",
       "      <td>3</td>\n",
       "    </tr>\n",
       "    <tr>\n",
       "      <th>3</th>\n",
       "      <td>NaN</td>\n",
       "      <td>4</td>\n",
       "    </tr>\n",
       "    <tr>\n",
       "      <th>4</th>\n",
       "      <td>NaN</td>\n",
       "      <td>5</td>\n",
       "    </tr>\n",
       "  </tbody>\n",
       "</table>\n",
       "</div>"
      ],
      "text/plain": [
       "              0  1\n",
       "0  Nishan Limbu  1\n",
       "1    Saru Limbu  2\n",
       "2   Priya Limbu  3\n",
       "3           NaN  4\n",
       "4           NaN  5"
      ]
     },
     "execution_count": 11,
     "metadata": {},
     "output_type": "execute_result"
    }
   ],
   "source": [
    "# uisng concat()\n",
    "ser_df = pd.concat([series1, series2], axis=1)\n",
    "\n",
    "ser_df.head()"
   ]
  },
  {
   "cell_type": "code",
   "execution_count": null,
   "id": "8659e934-6c82-435d-8723-0cd7faf8f17e",
   "metadata": {},
   "outputs": [],
   "source": []
  }
 ],
 "metadata": {
  "kernelspec": {
   "display_name": "Python 3 (ipykernel)",
   "language": "python",
   "name": "python3"
  },
  "language_info": {
   "codemirror_mode": {
    "name": "ipython",
    "version": 3
   },
   "file_extension": ".py",
   "mimetype": "text/x-python",
   "name": "python",
   "nbconvert_exporter": "python",
   "pygments_lexer": "ipython3",
   "version": "3.13.0"
  }
 },
 "nbformat": 4,
 "nbformat_minor": 5
}
