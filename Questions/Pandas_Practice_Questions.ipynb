{
 "cells": [
  {
   "cell_type": "markdown",
   "id": "85b215f4-8fed-42b5-8e79-c247ca6406df",
   "metadata": {},
   "source": [
    "1. How to create a series from a list, numpy array and dict?"
   ]
  },
  {
   "cell_type": "code",
   "execution_count": 1,
   "id": "b89ea1c5-1da7-49d6-8fa3-9336b23b54b1",
   "metadata": {},
   "outputs": [],
   "source": [
    "# importing necessary python libraries\n",
    "import numpy as np\n",
    "import pandas as pd"
   ]
  },
  {
   "cell_type": "code",
   "execution_count": 4,
   "id": "749b9e33-3274-4764-8938-aea9517b4ac9",
   "metadata": {},
   "outputs": [],
   "source": [
    "# inputs\n",
    "word_list = list(['Nishan Limbu', 'Saru Limbu', 'Priya Limbu'])\n",
    "numpy_array = np.arange(1, 11)\n",
    "alphabet_dictionary = {'A': 0, 'B': 1, 'C': 2, 'D':3, 'E':4, 'F':5}"
   ]
  },
  {
   "cell_type": "code",
   "execution_count": 5,
   "id": "860622da-acd2-4c1b-8541-d31f6c120858",
   "metadata": {},
   "outputs": [],
   "source": [
    "# creating a series from the above inputs\n",
    "series1 = pd.Series(word_list)\n",
    "series2 = pd.Series(numpy_array)\n",
    "series3 = pd.Series(alphabet_dictionary)\n"
   ]
  },
  {
   "cell_type": "code",
   "execution_count": 6,
   "id": "36cf8b3f-15b4-45de-b3d5-1db4fe112deb",
   "metadata": {},
   "outputs": [
    {
     "name": "stdout",
     "output_type": "stream",
     "text": [
      "0    Nishan Limbu\n",
      "1      Saru Limbu\n",
      "2     Priya Limbu\n",
      "dtype: object\n",
      "0     1\n",
      "1     2\n",
      "2     3\n",
      "3     4\n",
      "4     5\n",
      "5     6\n",
      "6     7\n",
      "7     8\n",
      "8     9\n",
      "9    10\n",
      "dtype: int64\n",
      "A    0\n",
      "B    1\n",
      "C    2\n",
      "D    3\n",
      "E    4\n",
      "F    5\n",
      "dtype: int64\n"
     ]
    }
   ],
   "source": [
    "# printing all the series\n",
    "print(series1)\n",
    "print(series2)\n",
    "print(series3)"
   ]
  },
  {
   "cell_type": "code",
   "execution_count": null,
   "id": "59bc3a41-529a-4ef0-968d-e359e167b45e",
   "metadata": {},
   "outputs": [],
   "source": []
  },
  {
   "cell_type": "markdown",
   "id": "60324ea3-07de-482f-8aa7-85668b1a8e94",
   "metadata": {},
   "source": [
    "2. How to combine many series to form a dataframe?"
   ]
  },
  {
   "cell_type": "code",
   "execution_count": 7,
   "id": "1556c875-a1cd-42f6-b31e-2cc2c8812121",
   "metadata": {},
   "outputs": [],
   "source": [
    "# input of two series\n",
    "series1 = pd.Series(word_list)\n",
    "series2 = pd.Series(numpy_array)"
   ]
  },
  {
   "cell_type": "code",
   "execution_count": 8,
   "id": "c15bf30e-254e-4715-a4ed-d1b070297a52",
   "metadata": {},
   "outputs": [
    {
     "data": {
      "text/html": [
       "<div>\n",
       "<style scoped>\n",
       "    .dataframe tbody tr th:only-of-type {\n",
       "        vertical-align: middle;\n",
       "    }\n",
       "\n",
       "    .dataframe tbody tr th {\n",
       "        vertical-align: top;\n",
       "    }\n",
       "\n",
       "    .dataframe thead th {\n",
       "        text-align: right;\n",
       "    }\n",
       "</style>\n",
       "<table border=\"1\" class=\"dataframe\">\n",
       "  <thead>\n",
       "    <tr style=\"text-align: right;\">\n",
       "      <th></th>\n",
       "      <th>index</th>\n",
       "      <th>0</th>\n",
       "    </tr>\n",
       "  </thead>\n",
       "  <tbody>\n",
       "    <tr>\n",
       "      <th>0</th>\n",
       "      <td>1</td>\n",
       "      <td>Saru Limbu</td>\n",
       "    </tr>\n",
       "    <tr>\n",
       "      <th>1</th>\n",
       "      <td>2</td>\n",
       "      <td>Priya Limbu</td>\n",
       "    </tr>\n",
       "    <tr>\n",
       "      <th>2</th>\n",
       "      <td>3</td>\n",
       "      <td>NaN</td>\n",
       "    </tr>\n",
       "    <tr>\n",
       "      <th>3</th>\n",
       "      <td>4</td>\n",
       "      <td>NaN</td>\n",
       "    </tr>\n",
       "    <tr>\n",
       "      <th>4</th>\n",
       "      <td>5</td>\n",
       "      <td>NaN</td>\n",
       "    </tr>\n",
       "    <tr>\n",
       "      <th>5</th>\n",
       "      <td>6</td>\n",
       "      <td>NaN</td>\n",
       "    </tr>\n",
       "    <tr>\n",
       "      <th>6</th>\n",
       "      <td>7</td>\n",
       "      <td>NaN</td>\n",
       "    </tr>\n",
       "    <tr>\n",
       "      <th>7</th>\n",
       "      <td>8</td>\n",
       "      <td>NaN</td>\n",
       "    </tr>\n",
       "    <tr>\n",
       "      <th>8</th>\n",
       "      <td>9</td>\n",
       "      <td>NaN</td>\n",
       "    </tr>\n",
       "    <tr>\n",
       "      <th>9</th>\n",
       "      <td>10</td>\n",
       "      <td>NaN</td>\n",
       "    </tr>\n",
       "  </tbody>\n",
       "</table>\n",
       "</div>"
      ],
      "text/plain": [
       "   index            0\n",
       "0      1   Saru Limbu\n",
       "1      2  Priya Limbu\n",
       "2      3          NaN\n",
       "3      4          NaN\n",
       "4      5          NaN\n",
       "5      6          NaN\n",
       "6      7          NaN\n",
       "7      8          NaN\n",
       "8      9          NaN\n",
       "9     10          NaN"
      ]
     },
     "execution_count": 8,
     "metadata": {},
     "output_type": "execute_result"
    }
   ],
   "source": [
    "# using pandas DataFrame\n",
    "df = pd.DataFrame(series1, series2).reset_index()\n",
    "df"
   ]
  },
  {
   "cell_type": "code",
   "execution_count": 9,
   "id": "f58f0d9b-08c7-4f3e-b856-a03ab5844ac4",
   "metadata": {},
   "outputs": [
    {
     "data": {
      "text/html": [
       "<div>\n",
       "<style scoped>\n",
       "    .dataframe tbody tr th:only-of-type {\n",
       "        vertical-align: middle;\n",
       "    }\n",
       "\n",
       "    .dataframe tbody tr th {\n",
       "        vertical-align: top;\n",
       "    }\n",
       "\n",
       "    .dataframe thead th {\n",
       "        text-align: right;\n",
       "    }\n",
       "</style>\n",
       "<table border=\"1\" class=\"dataframe\">\n",
       "  <thead>\n",
       "    <tr style=\"text-align: right;\">\n",
       "      <th></th>\n",
       "      <th>col-1</th>\n",
       "      <th>col-2</th>\n",
       "    </tr>\n",
       "  </thead>\n",
       "  <tbody>\n",
       "    <tr>\n",
       "      <th>0</th>\n",
       "      <td>Nishan Limbu</td>\n",
       "      <td>1</td>\n",
       "    </tr>\n",
       "    <tr>\n",
       "      <th>1</th>\n",
       "      <td>Saru Limbu</td>\n",
       "      <td>2</td>\n",
       "    </tr>\n",
       "    <tr>\n",
       "      <th>2</th>\n",
       "      <td>Priya Limbu</td>\n",
       "      <td>3</td>\n",
       "    </tr>\n",
       "    <tr>\n",
       "      <th>3</th>\n",
       "      <td>NaN</td>\n",
       "      <td>4</td>\n",
       "    </tr>\n",
       "    <tr>\n",
       "      <th>4</th>\n",
       "      <td>NaN</td>\n",
       "      <td>5</td>\n",
       "    </tr>\n",
       "  </tbody>\n",
       "</table>\n",
       "</div>"
      ],
      "text/plain": [
       "          col-1  col-2\n",
       "0  Nishan Limbu      1\n",
       "1    Saru Limbu      2\n",
       "2   Priya Limbu      3\n",
       "3           NaN      4\n",
       "4           NaN      5"
      ]
     },
     "execution_count": 9,
     "metadata": {},
     "output_type": "execute_result"
    }
   ],
   "source": [
    "# using pandas DataFrame with a dictionary, gives specific columns name\n",
    "df = pd.DataFrame({'col-1':series1, 'col-2':series2})\n",
    "df.head()"
   ]
  },
  {
   "cell_type": "code",
   "execution_count": 15,
   "id": "bab71f30-8bb1-4949-b1eb-46c0a80cb8ef",
   "metadata": {},
   "outputs": [
    {
     "data": {
      "text/html": [
       "<div>\n",
       "<style scoped>\n",
       "    .dataframe tbody tr th:only-of-type {\n",
       "        vertical-align: middle;\n",
       "    }\n",
       "\n",
       "    .dataframe tbody tr th {\n",
       "        vertical-align: top;\n",
       "    }\n",
       "\n",
       "    .dataframe thead th {\n",
       "        text-align: right;\n",
       "    }\n",
       "</style>\n",
       "<table border=\"1\" class=\"dataframe\">\n",
       "  <thead>\n",
       "    <tr style=\"text-align: right;\">\n",
       "      <th></th>\n",
       "      <th>0</th>\n",
       "      <th>1</th>\n",
       "    </tr>\n",
       "  </thead>\n",
       "  <tbody>\n",
       "    <tr>\n",
       "      <th>0</th>\n",
       "      <td>Nishan Limbu</td>\n",
       "      <td>1</td>\n",
       "    </tr>\n",
       "    <tr>\n",
       "      <th>1</th>\n",
       "      <td>Saru Limbu</td>\n",
       "      <td>2</td>\n",
       "    </tr>\n",
       "    <tr>\n",
       "      <th>2</th>\n",
       "      <td>Priya Limbu</td>\n",
       "      <td>3</td>\n",
       "    </tr>\n",
       "    <tr>\n",
       "      <th>3</th>\n",
       "      <td>NaN</td>\n",
       "      <td>4</td>\n",
       "    </tr>\n",
       "    <tr>\n",
       "      <th>4</th>\n",
       "      <td>NaN</td>\n",
       "      <td>5</td>\n",
       "    </tr>\n",
       "  </tbody>\n",
       "</table>\n",
       "</div>"
      ],
      "text/plain": [
       "              0  1\n",
       "0  Nishan Limbu  1\n",
       "1    Saru Limbu  2\n",
       "2   Priya Limbu  3\n",
       "3           NaN  4\n",
       "4           NaN  5"
      ]
     },
     "execution_count": 15,
     "metadata": {},
     "output_type": "execute_result"
    }
   ],
   "source": [
    "# uisng concat()\n",
    "ser_df.head()"
   ]
  },
  {
   "cell_type": "code",
   "execution_count": null,
   "id": "8659e934-6c82-435d-8723-0cd7faf8f17e",
   "metadata": {},
   "outputs": [],
   "source": []
  },
  {
   "cell_type": "markdown",
   "id": "e5113854-05ec-422c-9e27-c72d4ca0b9ae",
   "metadata": {},
   "source": [
    "3. How to get the items of series A not present in series B?"
   ]
  },
  {
   "cell_type": "code",
   "execution_count": 16,
   "id": "b6418801-ef5f-4eaa-a83b-b0f449dc0cc6",
   "metadata": {},
   "outputs": [],
   "source": [
    "# input\n",
    "ser1 = pd.Series([1, 2, 3, 4, 5])\n",
    "ser2 = pd.Series([4, 5, 6, 7, 8])"
   ]
  },
  {
   "cell_type": "code",
   "execution_count": 18,
   "id": "d2c1217c-0416-4535-807f-738e005561e2",
   "metadata": {},
   "outputs": [
    {
     "data": {
      "text/plain": [
       "0    1\n",
       "1    2\n",
       "2    3\n",
       "dtype: int64"
      ]
     },
     "execution_count": 18,
     "metadata": {},
     "output_type": "execute_result"
    }
   ],
   "source": [
    "ser1[~ser1.isin(ser2)]"
   ]
  },
  {
   "cell_type": "code",
   "execution_count": null,
   "id": "bdbf8ffc-3811-484e-9202-0b5dd2cb7994",
   "metadata": {},
   "outputs": [],
   "source": []
  },
  {
   "cell_type": "markdown",
   "id": "794b0159-57e0-497e-a16f-c75ca97f3382",
   "metadata": {},
   "source": [
    "4. How to get the items not common to both series A and series B?"
   ]
  },
  {
   "cell_type": "code",
   "execution_count": 19,
   "id": "ab338e46-3c1b-4aa9-aa62-f5322abc8027",
   "metadata": {},
   "outputs": [],
   "source": [
    "# input\n",
    "ser1 = pd.Series([1, 2, 3, 4, 5])\n",
    "ser2 = pd.Series([4, 5, 6, 7, 8])"
   ]
  },
  {
   "cell_type": "code",
   "execution_count": 22,
   "id": "45312cd3-9f1f-424a-84cb-d3fb30df184e",
   "metadata": {},
   "outputs": [
    {
     "data": {
      "text/plain": [
       "0    1\n",
       "1    2\n",
       "2    3\n",
       "dtype: int64"
      ]
     },
     "execution_count": 22,
     "metadata": {},
     "output_type": "execute_result"
    }
   ],
   "source": [
    "# getting all the elements of ser1 that is not present on ser2\n",
    "a_not_b = ser1[~ser1.isin(ser2)]\n",
    "a_not_b"
   ]
  },
  {
   "cell_type": "code",
   "execution_count": 23,
   "id": "a3ffa4ae-c0d5-48a1-a165-8494adc51822",
   "metadata": {},
   "outputs": [
    {
     "data": {
      "text/plain": [
       "2    6\n",
       "3    7\n",
       "4    8\n",
       "dtype: int64"
      ]
     },
     "execution_count": 23,
     "metadata": {},
     "output_type": "execute_result"
    }
   ],
   "source": [
    "# getting all the elements of ser2 that is not present on ser1\n",
    "b_not_a = ser2[~ser2.isin(ser1)]\n",
    "b_not_a"
   ]
  },
  {
   "cell_type": "code",
   "execution_count": 29,
   "id": "2fa56e4d-e523-444a-b4b5-d98fe0d0dc66",
   "metadata": {},
   "outputs": [
    {
     "data": {
      "text/plain": [
       "0    1\n",
       "1    2\n",
       "2    3\n",
       "2    6\n",
       "3    7\n",
       "4    8\n",
       "dtype: int64"
      ]
     },
     "execution_count": 29,
     "metadata": {},
     "output_type": "execute_result"
    }
   ],
   "source": [
    "# getting the result\n",
    "result = pd.concat([a_not_b, b_not_a])\n",
    "result"
   ]
  },
  {
   "cell_type": "code",
   "execution_count": 34,
   "id": "15052734-5eaa-433a-87b8-88324cf8aa7b",
   "metadata": {},
   "outputs": [
    {
     "data": {
      "text/plain": [
       "0    1\n",
       "1    2\n",
       "2    3\n",
       "5    6\n",
       "6    7\n",
       "7    8\n",
       "dtype: int64"
      ]
     },
     "execution_count": 34,
     "metadata": {},
     "output_type": "execute_result"
    }
   ],
   "source": [
    "# Another method:\n",
    "# using numpy unions and intersection\n",
    "u = pd.Series(np.union1d(ser1, ser2))  # union\n",
    "i = pd.Series(np.intersect1d(ser1, ser2))  # intersection\n",
    "\n",
    "# final result\n",
    "result = u[~u.isin(i)]\n",
    "\n",
    "result\n"
   ]
  },
  {
   "cell_type": "code",
   "execution_count": null,
   "id": "79130f3c-d311-4071-bbbf-b2815bf5562b",
   "metadata": {},
   "outputs": [],
   "source": []
  },
  {
   "cell_type": "markdown",
   "id": "5f4b4761-a321-4485-8471-6effa822c9ff",
   "metadata": {},
   "source": [
    "5. How to get useful infos"
   ]
  },
  {
   "cell_type": "code",
   "execution_count": 36,
   "id": "91b3fd42-baf3-4be2-b8a2-2de0934f6905",
   "metadata": {},
   "outputs": [],
   "source": [
    "# Compute the minimum, 25th percentile, median, 75th, and maximum of serie."
   ]
  },
  {
   "cell_type": "code",
   "execution_count": 42,
   "id": "bd9f977e-b250-4f28-a6e8-81035299130b",
   "metadata": {},
   "outputs": [
    {
     "data": {
      "text/plain": [
       "0      1.251173\n",
       "1     11.713402\n",
       "2     15.765179\n",
       "3      8.737820\n",
       "4     14.906604\n",
       "5     12.571094\n",
       "6     11.105898\n",
       "7      4.649783\n",
       "8      9.052521\n",
       "9     11.275007\n",
       "10     7.709865\n",
       "11    12.175817\n",
       "12     7.082025\n",
       "13    14.084235\n",
       "14    13.363604\n",
       "15     9.477944\n",
       "16     7.343598\n",
       "17    15.148663\n",
       "18     7.809322\n",
       "19     4.408409\n",
       "20    18.094908\n",
       "21    17.708026\n",
       "22     8.740604\n",
       "23     5.787821\n",
       "24    10.922593\n",
       "dtype: float64"
      ]
     },
     "execution_count": 42,
     "metadata": {},
     "output_type": "execute_result"
    }
   ],
   "source": [
    "# input\n",
    "state = np.random.RandomState(100)  # creates a RandomState object in NumPy, which is used to generate random numbers\n",
    "series1 = pd.Series(state.normal(10, 5, 25))  # state.normal(mean, std_dev, size) generates random numbers from a normal (Gaussian) distribution.\n",
    "series1"
   ]
  },
  {
   "cell_type": "code",
   "execution_count": 43,
   "id": "e71b7cb1-bcfb-4fb8-b692-27667a2906fa",
   "metadata": {},
   "outputs": [
    {
     "data": {
      "text/plain": [
       "count                3\n",
       "unique               3\n",
       "top       Nishan Limbu\n",
       "freq                 1\n",
       "dtype: object"
      ]
     },
     "execution_count": 43,
     "metadata": {},
     "output_type": "execute_result"
    }
   ],
   "source": [
    "# getting useful information (info)\n",
    "series1.describe()"
   ]
  },
  {
   "cell_type": "code",
   "execution_count": null,
   "id": "d8dd803c-4924-4fcf-a2ed-01ff3756b721",
   "metadata": {},
   "outputs": [],
   "source": []
  },
  {
   "cell_type": "markdown",
   "id": "83a990e7-4805-494c-8f34-c5e6e0bdcc04",
   "metadata": {},
   "source": [
    "6. How to get frequency counts of unique items of a series?"
   ]
  },
  {
   "cell_type": "code",
   "execution_count": 44,
   "id": "15997755-540f-48d3-bf60-47a52d6df275",
   "metadata": {},
   "outputs": [
    {
     "data": {
      "text/plain": [
       "['a', 'b', 'c', 'd', 'e', 'f', 'g', 'h']"
      ]
     },
     "execution_count": 44,
     "metadata": {},
     "output_type": "execute_result"
    }
   ],
   "source": [
    "# input\n",
    "alphabet_list = list('abcdefgh')\n",
    "alphabet_list"
   ]
  },
  {
   "cell_type": "code",
   "execution_count": 45,
   "id": "41858e75-1258-4990-ba78-2722f0babb68",
   "metadata": {},
   "outputs": [
    {
     "data": {
      "text/plain": [
       "array([0, 2, 1, 0, 0, 4, 7, 6, 0, 3, 7, 1, 6, 3, 2, 0, 6, 4, 6, 7, 0, 5,\n",
       "       3, 1, 4, 3, 5, 5, 1, 6], dtype=int32)"
      ]
     },
     "execution_count": 45,
     "metadata": {},
     "output_type": "execute_result"
    }
   ],
   "source": [
    "# input\n",
    "numbers = np.random.randint(8, size=30)\n",
    "numbers"
   ]
  },
  {
   "cell_type": "code",
   "execution_count": 47,
   "id": "75f768ff-13b7-46f4-9238-93548f61a6e3",
   "metadata": {},
   "outputs": [
    {
     "data": {
      "text/plain": [
       "array(['a', 'c', 'b', 'a', 'a', 'e', 'h', 'g', 'a', 'd', 'h', 'b', 'g',\n",
       "       'd', 'c', 'a', 'g', 'e', 'g', 'h', 'a', 'f', 'd', 'b', 'e', 'd',\n",
       "       'f', 'f', 'b', 'g'], dtype='<U1')"
      ]
     },
     "execution_count": 47,
     "metadata": {},
     "output_type": "execute_result"
    }
   ],
   "source": [
    " # selecting elements from the list('abcdefgh') using the indices provided by np.random.randint.\n",
    "sel_elements = np.take(alphabet_list, numbers)\n",
    "sel_elements"
   ]
  },
  {
   "cell_type": "code",
   "execution_count": 49,
   "id": "3260e32a-4e65-43ca-a742-f92c7a803b6c",
   "metadata": {},
   "outputs": [
    {
     "data": {
      "text/plain": [
       "0     a\n",
       "1     c\n",
       "2     b\n",
       "3     a\n",
       "4     a\n",
       "5     e\n",
       "6     h\n",
       "7     g\n",
       "8     a\n",
       "9     d\n",
       "10    h\n",
       "11    b\n",
       "12    g\n",
       "13    d\n",
       "14    c\n",
       "15    a\n",
       "16    g\n",
       "17    e\n",
       "18    g\n",
       "19    h\n",
       "20    a\n",
       "21    f\n",
       "22    d\n",
       "23    b\n",
       "24    e\n",
       "25    d\n",
       "26    f\n",
       "27    f\n",
       "28    b\n",
       "29    g\n",
       "dtype: object"
      ]
     },
     "execution_count": 49,
     "metadata": {},
     "output_type": "execute_result"
    }
   ],
   "source": [
    "# creating a seriesA\n",
    "seriesA = pd.Series(sel_elements)\n",
    "seriesA"
   ]
  },
  {
   "cell_type": "code",
   "execution_count": 52,
   "id": "563db686-a7b9-4745-b824-f705919693c3",
   "metadata": {},
   "outputs": [
    {
     "data": {
      "text/plain": [
       "a    6\n",
       "g    5\n",
       "d    4\n",
       "b    4\n",
       "h    3\n",
       "e    3\n",
       "f    3\n",
       "c    2\n",
       "Name: count, dtype: int64"
      ]
     },
     "execution_count": 52,
     "metadata": {},
     "output_type": "execute_result"
    }
   ],
   "source": [
    "# counting the values\n",
    "seriesA.value_counts()"
   ]
  },
  {
   "cell_type": "code",
   "execution_count": null,
   "id": "8fb15a1e-9225-4b1d-9ea4-3feeaa881117",
   "metadata": {},
   "outputs": [],
   "source": []
  }
 ],
 "metadata": {
  "kernelspec": {
   "display_name": "Python 3 (ipykernel)",
   "language": "python",
   "name": "python3"
  },
  "language_info": {
   "codemirror_mode": {
    "name": "ipython",
    "version": 3
   },
   "file_extension": ".py",
   "mimetype": "text/x-python",
   "name": "python",
   "nbconvert_exporter": "python",
   "pygments_lexer": "ipython3",
   "version": "3.13.0"
  }
 },
 "nbformat": 4,
 "nbformat_minor": 5
}
