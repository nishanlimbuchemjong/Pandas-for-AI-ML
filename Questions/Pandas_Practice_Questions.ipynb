{
 "cells": [
  {
   "cell_type": "markdown",
   "id": "85b215f4-8fed-42b5-8e79-c247ca6406df",
   "metadata": {},
   "source": [
    "# 1. How to create a series from a list, numpy array and dict?"
   ]
  },
  {
   "cell_type": "code",
   "execution_count": 4,
   "id": "b89ea1c5-1da7-49d6-8fa3-9336b23b54b1",
   "metadata": {},
   "outputs": [],
   "source": [
    "# importing necessary python libraries\n",
    "import numpy as np\n",
    "import pandas as pd"
   ]
  },
  {
   "cell_type": "code",
   "execution_count": 4,
   "id": "749b9e33-3274-4764-8938-aea9517b4ac9",
   "metadata": {},
   "outputs": [],
   "source": [
    "# inputs\n",
    "word_list = list(['Nishan Limbu', 'Saru Limbu', 'Priya Limbu'])\n",
    "numpy_array = np.arange(1, 11)\n",
    "alphabet_dictionary = {'A': 0, 'B': 1, 'C': 2, 'D':3, 'E':4, 'F':5}"
   ]
  },
  {
   "cell_type": "code",
   "execution_count": 5,
   "id": "860622da-acd2-4c1b-8541-d31f6c120858",
   "metadata": {},
   "outputs": [],
   "source": [
    "# creating a series from the above inputs\n",
    "series1 = pd.Series(word_list)\n",
    "series2 = pd.Series(numpy_array)\n",
    "series3 = pd.Series(alphabet_dictionary)\n"
   ]
  },
  {
   "cell_type": "code",
   "execution_count": 6,
   "id": "36cf8b3f-15b4-45de-b3d5-1db4fe112deb",
   "metadata": {},
   "outputs": [
    {
     "name": "stdout",
     "output_type": "stream",
     "text": [
      "0    Nishan Limbu\n",
      "1      Saru Limbu\n",
      "2     Priya Limbu\n",
      "dtype: object\n",
      "0     1\n",
      "1     2\n",
      "2     3\n",
      "3     4\n",
      "4     5\n",
      "5     6\n",
      "6     7\n",
      "7     8\n",
      "8     9\n",
      "9    10\n",
      "dtype: int64\n",
      "A    0\n",
      "B    1\n",
      "C    2\n",
      "D    3\n",
      "E    4\n",
      "F    5\n",
      "dtype: int64\n"
     ]
    }
   ],
   "source": [
    "# printing all the series\n",
    "print(series1)\n",
    "print(series2)\n",
    "print(series3)"
   ]
  },
  {
   "cell_type": "code",
   "execution_count": null,
   "id": "59bc3a41-529a-4ef0-968d-e359e167b45e",
   "metadata": {},
   "outputs": [],
   "source": []
  },
  {
   "cell_type": "markdown",
   "id": "60324ea3-07de-482f-8aa7-85668b1a8e94",
   "metadata": {},
   "source": [
    "# 2. How to combine many series to form a dataframe?"
   ]
  },
  {
   "cell_type": "code",
   "execution_count": 7,
   "id": "1556c875-a1cd-42f6-b31e-2cc2c8812121",
   "metadata": {},
   "outputs": [],
   "source": [
    "# input of two series\n",
    "series1 = pd.Series(word_list)\n",
    "series2 = pd.Series(numpy_array)"
   ]
  },
  {
   "cell_type": "code",
   "execution_count": 8,
   "id": "c15bf30e-254e-4715-a4ed-d1b070297a52",
   "metadata": {},
   "outputs": [
    {
     "data": {
      "text/html": [
       "<div>\n",
       "<style scoped>\n",
       "    .dataframe tbody tr th:only-of-type {\n",
       "        vertical-align: middle;\n",
       "    }\n",
       "\n",
       "    .dataframe tbody tr th {\n",
       "        vertical-align: top;\n",
       "    }\n",
       "\n",
       "    .dataframe thead th {\n",
       "        text-align: right;\n",
       "    }\n",
       "</style>\n",
       "<table border=\"1\" class=\"dataframe\">\n",
       "  <thead>\n",
       "    <tr style=\"text-align: right;\">\n",
       "      <th></th>\n",
       "      <th>index</th>\n",
       "      <th>0</th>\n",
       "    </tr>\n",
       "  </thead>\n",
       "  <tbody>\n",
       "    <tr>\n",
       "      <th>0</th>\n",
       "      <td>1</td>\n",
       "      <td>Saru Limbu</td>\n",
       "    </tr>\n",
       "    <tr>\n",
       "      <th>1</th>\n",
       "      <td>2</td>\n",
       "      <td>Priya Limbu</td>\n",
       "    </tr>\n",
       "    <tr>\n",
       "      <th>2</th>\n",
       "      <td>3</td>\n",
       "      <td>NaN</td>\n",
       "    </tr>\n",
       "    <tr>\n",
       "      <th>3</th>\n",
       "      <td>4</td>\n",
       "      <td>NaN</td>\n",
       "    </tr>\n",
       "    <tr>\n",
       "      <th>4</th>\n",
       "      <td>5</td>\n",
       "      <td>NaN</td>\n",
       "    </tr>\n",
       "    <tr>\n",
       "      <th>5</th>\n",
       "      <td>6</td>\n",
       "      <td>NaN</td>\n",
       "    </tr>\n",
       "    <tr>\n",
       "      <th>6</th>\n",
       "      <td>7</td>\n",
       "      <td>NaN</td>\n",
       "    </tr>\n",
       "    <tr>\n",
       "      <th>7</th>\n",
       "      <td>8</td>\n",
       "      <td>NaN</td>\n",
       "    </tr>\n",
       "    <tr>\n",
       "      <th>8</th>\n",
       "      <td>9</td>\n",
       "      <td>NaN</td>\n",
       "    </tr>\n",
       "    <tr>\n",
       "      <th>9</th>\n",
       "      <td>10</td>\n",
       "      <td>NaN</td>\n",
       "    </tr>\n",
       "  </tbody>\n",
       "</table>\n",
       "</div>"
      ],
      "text/plain": [
       "   index            0\n",
       "0      1   Saru Limbu\n",
       "1      2  Priya Limbu\n",
       "2      3          NaN\n",
       "3      4          NaN\n",
       "4      5          NaN\n",
       "5      6          NaN\n",
       "6      7          NaN\n",
       "7      8          NaN\n",
       "8      9          NaN\n",
       "9     10          NaN"
      ]
     },
     "execution_count": 8,
     "metadata": {},
     "output_type": "execute_result"
    }
   ],
   "source": [
    "# using pandas DataFrame\n",
    "df = pd.DataFrame(series1, series2).reset_index()\n",
    "df"
   ]
  },
  {
   "cell_type": "code",
   "execution_count": 9,
   "id": "f58f0d9b-08c7-4f3e-b856-a03ab5844ac4",
   "metadata": {},
   "outputs": [
    {
     "data": {
      "text/html": [
       "<div>\n",
       "<style scoped>\n",
       "    .dataframe tbody tr th:only-of-type {\n",
       "        vertical-align: middle;\n",
       "    }\n",
       "\n",
       "    .dataframe tbody tr th {\n",
       "        vertical-align: top;\n",
       "    }\n",
       "\n",
       "    .dataframe thead th {\n",
       "        text-align: right;\n",
       "    }\n",
       "</style>\n",
       "<table border=\"1\" class=\"dataframe\">\n",
       "  <thead>\n",
       "    <tr style=\"text-align: right;\">\n",
       "      <th></th>\n",
       "      <th>col-1</th>\n",
       "      <th>col-2</th>\n",
       "    </tr>\n",
       "  </thead>\n",
       "  <tbody>\n",
       "    <tr>\n",
       "      <th>0</th>\n",
       "      <td>Nishan Limbu</td>\n",
       "      <td>1</td>\n",
       "    </tr>\n",
       "    <tr>\n",
       "      <th>1</th>\n",
       "      <td>Saru Limbu</td>\n",
       "      <td>2</td>\n",
       "    </tr>\n",
       "    <tr>\n",
       "      <th>2</th>\n",
       "      <td>Priya Limbu</td>\n",
       "      <td>3</td>\n",
       "    </tr>\n",
       "    <tr>\n",
       "      <th>3</th>\n",
       "      <td>NaN</td>\n",
       "      <td>4</td>\n",
       "    </tr>\n",
       "    <tr>\n",
       "      <th>4</th>\n",
       "      <td>NaN</td>\n",
       "      <td>5</td>\n",
       "    </tr>\n",
       "  </tbody>\n",
       "</table>\n",
       "</div>"
      ],
      "text/plain": [
       "          col-1  col-2\n",
       "0  Nishan Limbu      1\n",
       "1    Saru Limbu      2\n",
       "2   Priya Limbu      3\n",
       "3           NaN      4\n",
       "4           NaN      5"
      ]
     },
     "execution_count": 9,
     "metadata": {},
     "output_type": "execute_result"
    }
   ],
   "source": [
    "# using pandas DataFrame with a dictionary, gives specific columns name\n",
    "df = pd.DataFrame({'col-1':series1, 'col-2':series2})\n",
    "df.head()"
   ]
  },
  {
   "cell_type": "code",
   "execution_count": 15,
   "id": "bab71f30-8bb1-4949-b1eb-46c0a80cb8ef",
   "metadata": {},
   "outputs": [
    {
     "data": {
      "text/html": [
       "<div>\n",
       "<style scoped>\n",
       "    .dataframe tbody tr th:only-of-type {\n",
       "        vertical-align: middle;\n",
       "    }\n",
       "\n",
       "    .dataframe tbody tr th {\n",
       "        vertical-align: top;\n",
       "    }\n",
       "\n",
       "    .dataframe thead th {\n",
       "        text-align: right;\n",
       "    }\n",
       "</style>\n",
       "<table border=\"1\" class=\"dataframe\">\n",
       "  <thead>\n",
       "    <tr style=\"text-align: right;\">\n",
       "      <th></th>\n",
       "      <th>0</th>\n",
       "      <th>1</th>\n",
       "    </tr>\n",
       "  </thead>\n",
       "  <tbody>\n",
       "    <tr>\n",
       "      <th>0</th>\n",
       "      <td>Nishan Limbu</td>\n",
       "      <td>1</td>\n",
       "    </tr>\n",
       "    <tr>\n",
       "      <th>1</th>\n",
       "      <td>Saru Limbu</td>\n",
       "      <td>2</td>\n",
       "    </tr>\n",
       "    <tr>\n",
       "      <th>2</th>\n",
       "      <td>Priya Limbu</td>\n",
       "      <td>3</td>\n",
       "    </tr>\n",
       "    <tr>\n",
       "      <th>3</th>\n",
       "      <td>NaN</td>\n",
       "      <td>4</td>\n",
       "    </tr>\n",
       "    <tr>\n",
       "      <th>4</th>\n",
       "      <td>NaN</td>\n",
       "      <td>5</td>\n",
       "    </tr>\n",
       "  </tbody>\n",
       "</table>\n",
       "</div>"
      ],
      "text/plain": [
       "              0  1\n",
       "0  Nishan Limbu  1\n",
       "1    Saru Limbu  2\n",
       "2   Priya Limbu  3\n",
       "3           NaN  4\n",
       "4           NaN  5"
      ]
     },
     "execution_count": 15,
     "metadata": {},
     "output_type": "execute_result"
    }
   ],
   "source": [
    "# uisng concat()\n",
    "ser_df.head()"
   ]
  },
  {
   "cell_type": "code",
   "execution_count": null,
   "id": "8659e934-6c82-435d-8723-0cd7faf8f17e",
   "metadata": {},
   "outputs": [],
   "source": []
  },
  {
   "cell_type": "markdown",
   "id": "e5113854-05ec-422c-9e27-c72d4ca0b9ae",
   "metadata": {},
   "source": [
    "# 3. How to get the items of series A not present in series B?"
   ]
  },
  {
   "cell_type": "code",
   "execution_count": 16,
   "id": "b6418801-ef5f-4eaa-a83b-b0f449dc0cc6",
   "metadata": {},
   "outputs": [],
   "source": [
    "# input\n",
    "ser1 = pd.Series([1, 2, 3, 4, 5])\n",
    "ser2 = pd.Series([4, 5, 6, 7, 8])"
   ]
  },
  {
   "cell_type": "code",
   "execution_count": 18,
   "id": "d2c1217c-0416-4535-807f-738e005561e2",
   "metadata": {},
   "outputs": [
    {
     "data": {
      "text/plain": [
       "0    1\n",
       "1    2\n",
       "2    3\n",
       "dtype: int64"
      ]
     },
     "execution_count": 18,
     "metadata": {},
     "output_type": "execute_result"
    }
   ],
   "source": [
    "ser1[~ser1.isin(ser2)]"
   ]
  },
  {
   "cell_type": "code",
   "execution_count": null,
   "id": "bdbf8ffc-3811-484e-9202-0b5dd2cb7994",
   "metadata": {},
   "outputs": [],
   "source": []
  },
  {
   "cell_type": "markdown",
   "id": "794b0159-57e0-497e-a16f-c75ca97f3382",
   "metadata": {},
   "source": [
    "# 4. How to get the items not common to both series A and series B?"
   ]
  },
  {
   "cell_type": "code",
   "execution_count": 19,
   "id": "ab338e46-3c1b-4aa9-aa62-f5322abc8027",
   "metadata": {},
   "outputs": [],
   "source": [
    "# input\n",
    "ser1 = pd.Series([1, 2, 3, 4, 5])\n",
    "ser2 = pd.Series([4, 5, 6, 7, 8])"
   ]
  },
  {
   "cell_type": "code",
   "execution_count": 22,
   "id": "45312cd3-9f1f-424a-84cb-d3fb30df184e",
   "metadata": {},
   "outputs": [
    {
     "data": {
      "text/plain": [
       "0    1\n",
       "1    2\n",
       "2    3\n",
       "dtype: int64"
      ]
     },
     "execution_count": 22,
     "metadata": {},
     "output_type": "execute_result"
    }
   ],
   "source": [
    "# getting all the elements of ser1 that is not present on ser2\n",
    "a_not_b = ser1[~ser1.isin(ser2)]\n",
    "a_not_b"
   ]
  },
  {
   "cell_type": "code",
   "execution_count": 23,
   "id": "a3ffa4ae-c0d5-48a1-a165-8494adc51822",
   "metadata": {},
   "outputs": [
    {
     "data": {
      "text/plain": [
       "2    6\n",
       "3    7\n",
       "4    8\n",
       "dtype: int64"
      ]
     },
     "execution_count": 23,
     "metadata": {},
     "output_type": "execute_result"
    }
   ],
   "source": [
    "# getting all the elements of ser2 that is not present on ser1\n",
    "b_not_a = ser2[~ser2.isin(ser1)]\n",
    "b_not_a"
   ]
  },
  {
   "cell_type": "code",
   "execution_count": 29,
   "id": "2fa56e4d-e523-444a-b4b5-d98fe0d0dc66",
   "metadata": {},
   "outputs": [
    {
     "data": {
      "text/plain": [
       "0    1\n",
       "1    2\n",
       "2    3\n",
       "2    6\n",
       "3    7\n",
       "4    8\n",
       "dtype: int64"
      ]
     },
     "execution_count": 29,
     "metadata": {},
     "output_type": "execute_result"
    }
   ],
   "source": [
    "# getting the result\n",
    "result = pd.concat([a_not_b, b_not_a])\n",
    "result"
   ]
  },
  {
   "cell_type": "code",
   "execution_count": 34,
   "id": "15052734-5eaa-433a-87b8-88324cf8aa7b",
   "metadata": {},
   "outputs": [
    {
     "data": {
      "text/plain": [
       "0    1\n",
       "1    2\n",
       "2    3\n",
       "5    6\n",
       "6    7\n",
       "7    8\n",
       "dtype: int64"
      ]
     },
     "execution_count": 34,
     "metadata": {},
     "output_type": "execute_result"
    }
   ],
   "source": [
    "# Another method:\n",
    "# using numpy unions and intersection\n",
    "u = pd.Series(np.union1d(ser1, ser2))  # union\n",
    "i = pd.Series(np.intersect1d(ser1, ser2))  # intersection\n",
    "\n",
    "# final result\n",
    "result = u[~u.isin(i)]\n",
    "\n",
    "result\n"
   ]
  },
  {
   "cell_type": "code",
   "execution_count": null,
   "id": "79130f3c-d311-4071-bbbf-b2815bf5562b",
   "metadata": {},
   "outputs": [],
   "source": []
  },
  {
   "cell_type": "markdown",
   "id": "5f4b4761-a321-4485-8471-6effa822c9ff",
   "metadata": {},
   "source": [
    "# 5. How to get useful infos"
   ]
  },
  {
   "cell_type": "code",
   "execution_count": 36,
   "id": "91b3fd42-baf3-4be2-b8a2-2de0934f6905",
   "metadata": {},
   "outputs": [],
   "source": [
    "# Compute the minimum, 25th percentile, median, 75th, and maximum of serie."
   ]
  },
  {
   "cell_type": "code",
   "execution_count": 42,
   "id": "bd9f977e-b250-4f28-a6e8-81035299130b",
   "metadata": {},
   "outputs": [
    {
     "data": {
      "text/plain": [
       "0      1.251173\n",
       "1     11.713402\n",
       "2     15.765179\n",
       "3      8.737820\n",
       "4     14.906604\n",
       "5     12.571094\n",
       "6     11.105898\n",
       "7      4.649783\n",
       "8      9.052521\n",
       "9     11.275007\n",
       "10     7.709865\n",
       "11    12.175817\n",
       "12     7.082025\n",
       "13    14.084235\n",
       "14    13.363604\n",
       "15     9.477944\n",
       "16     7.343598\n",
       "17    15.148663\n",
       "18     7.809322\n",
       "19     4.408409\n",
       "20    18.094908\n",
       "21    17.708026\n",
       "22     8.740604\n",
       "23     5.787821\n",
       "24    10.922593\n",
       "dtype: float64"
      ]
     },
     "execution_count": 42,
     "metadata": {},
     "output_type": "execute_result"
    }
   ],
   "source": [
    "# input\n",
    "state = np.random.RandomState(100)  # creates a RandomState object in NumPy, which is used to generate random numbers\n",
    "series1 = pd.Series(state.normal(10, 5, 25))  # state.normal(mean, std_dev, size) generates random numbers from a normal (Gaussian) distribution.\n",
    "series1"
   ]
  },
  {
   "cell_type": "code",
   "execution_count": 43,
   "id": "e71b7cb1-bcfb-4fb8-b692-27667a2906fa",
   "metadata": {},
   "outputs": [
    {
     "data": {
      "text/plain": [
       "count                3\n",
       "unique               3\n",
       "top       Nishan Limbu\n",
       "freq                 1\n",
       "dtype: object"
      ]
     },
     "execution_count": 43,
     "metadata": {},
     "output_type": "execute_result"
    }
   ],
   "source": [
    "# getting useful information (info)\n",
    "series1.describe()"
   ]
  },
  {
   "cell_type": "code",
   "execution_count": null,
   "id": "d8dd803c-4924-4fcf-a2ed-01ff3756b721",
   "metadata": {},
   "outputs": [],
   "source": []
  },
  {
   "cell_type": "markdown",
   "id": "83a990e7-4805-494c-8f34-c5e6e0bdcc04",
   "metadata": {},
   "source": [
    "# 6. How to get frequency counts of unique items of a series?"
   ]
  },
  {
   "cell_type": "code",
   "execution_count": 44,
   "id": "15997755-540f-48d3-bf60-47a52d6df275",
   "metadata": {},
   "outputs": [
    {
     "data": {
      "text/plain": [
       "['a', 'b', 'c', 'd', 'e', 'f', 'g', 'h']"
      ]
     },
     "execution_count": 44,
     "metadata": {},
     "output_type": "execute_result"
    }
   ],
   "source": [
    "# input\n",
    "alphabet_list = list('abcdefgh')\n",
    "alphabet_list"
   ]
  },
  {
   "cell_type": "code",
   "execution_count": 45,
   "id": "41858e75-1258-4990-ba78-2722f0babb68",
   "metadata": {},
   "outputs": [
    {
     "data": {
      "text/plain": [
       "array([0, 2, 1, 0, 0, 4, 7, 6, 0, 3, 7, 1, 6, 3, 2, 0, 6, 4, 6, 7, 0, 5,\n",
       "       3, 1, 4, 3, 5, 5, 1, 6], dtype=int32)"
      ]
     },
     "execution_count": 45,
     "metadata": {},
     "output_type": "execute_result"
    }
   ],
   "source": [
    "# input\n",
    "numbers = np.random.randint(8, size=30)\n",
    "numbers"
   ]
  },
  {
   "cell_type": "code",
   "execution_count": 47,
   "id": "75f768ff-13b7-46f4-9238-93548f61a6e3",
   "metadata": {},
   "outputs": [
    {
     "data": {
      "text/plain": [
       "array(['a', 'c', 'b', 'a', 'a', 'e', 'h', 'g', 'a', 'd', 'h', 'b', 'g',\n",
       "       'd', 'c', 'a', 'g', 'e', 'g', 'h', 'a', 'f', 'd', 'b', 'e', 'd',\n",
       "       'f', 'f', 'b', 'g'], dtype='<U1')"
      ]
     },
     "execution_count": 47,
     "metadata": {},
     "output_type": "execute_result"
    }
   ],
   "source": [
    " # selecting elements from the list('abcdefgh') using the indices provided by np.random.randint.\n",
    "sel_elements = np.take(alphabet_list, numbers)\n",
    "sel_elements"
   ]
  },
  {
   "cell_type": "code",
   "execution_count": 49,
   "id": "3260e32a-4e65-43ca-a742-f92c7a803b6c",
   "metadata": {},
   "outputs": [
    {
     "data": {
      "text/plain": [
       "0     a\n",
       "1     c\n",
       "2     b\n",
       "3     a\n",
       "4     a\n",
       "5     e\n",
       "6     h\n",
       "7     g\n",
       "8     a\n",
       "9     d\n",
       "10    h\n",
       "11    b\n",
       "12    g\n",
       "13    d\n",
       "14    c\n",
       "15    a\n",
       "16    g\n",
       "17    e\n",
       "18    g\n",
       "19    h\n",
       "20    a\n",
       "21    f\n",
       "22    d\n",
       "23    b\n",
       "24    e\n",
       "25    d\n",
       "26    f\n",
       "27    f\n",
       "28    b\n",
       "29    g\n",
       "dtype: object"
      ]
     },
     "execution_count": 49,
     "metadata": {},
     "output_type": "execute_result"
    }
   ],
   "source": [
    "# creating a seriesA\n",
    "seriesA = pd.Series(sel_elements)\n",
    "seriesA"
   ]
  },
  {
   "cell_type": "code",
   "execution_count": 52,
   "id": "563db686-a7b9-4745-b824-f705919693c3",
   "metadata": {},
   "outputs": [
    {
     "data": {
      "text/plain": [
       "a    6\n",
       "g    5\n",
       "d    4\n",
       "b    4\n",
       "h    3\n",
       "e    3\n",
       "f    3\n",
       "c    2\n",
       "Name: count, dtype: int64"
      ]
     },
     "execution_count": 52,
     "metadata": {},
     "output_type": "execute_result"
    }
   ],
   "source": [
    "# counting the values\n",
    "seriesA.value_counts()"
   ]
  },
  {
   "cell_type": "code",
   "execution_count": null,
   "id": "8fb15a1e-9225-4b1d-9ea4-3feeaa881117",
   "metadata": {},
   "outputs": [],
   "source": []
  },
  {
   "cell_type": "markdown",
   "id": "3adb2e03-df38-4e21-9072-ac5457bd4c6d",
   "metadata": {},
   "source": [
    "# 7. How to convert a numpy array to a dataframe of given shape? (L1)"
   ]
  },
  {
   "cell_type": "code",
   "execution_count": 53,
   "id": "a2b19b34-1247-4c54-8b77-330e9b3a208b",
   "metadata": {},
   "outputs": [],
   "source": [
    "# Reshape the series ser into a dataframe with 7 rows and 5 columns"
   ]
  },
  {
   "cell_type": "code",
   "execution_count": 54,
   "id": "c2ddd4d1-c9f0-45ec-93b0-52575a72331b",
   "metadata": {},
   "outputs": [
    {
     "data": {
      "text/plain": [
       "array([9, 5, 6, 7, 1, 5, 1, 5, 8, 2, 5, 7, 8, 9, 5, 2, 7, 3, 5, 2, 7, 2,\n",
       "       8, 8, 8, 6, 1, 3, 4, 8, 9, 1, 3, 4, 9], dtype=int32)"
      ]
     },
     "execution_count": 54,
     "metadata": {},
     "output_type": "execute_result"
    }
   ],
   "source": [
    "# input\n",
    "numbers = np.random.randint(1, 10, 35)\n",
    "numbers"
   ]
  },
  {
   "cell_type": "code",
   "execution_count": 55,
   "id": "08533dc6-e9d4-48b9-8bc6-2d9591173446",
   "metadata": {},
   "outputs": [
    {
     "data": {
      "text/plain": [
       "0     9\n",
       "1     5\n",
       "2     6\n",
       "3     7\n",
       "4     1\n",
       "5     5\n",
       "6     1\n",
       "7     5\n",
       "8     8\n",
       "9     2\n",
       "10    5\n",
       "11    7\n",
       "12    8\n",
       "13    9\n",
       "14    5\n",
       "15    2\n",
       "16    7\n",
       "17    3\n",
       "18    5\n",
       "19    2\n",
       "20    7\n",
       "21    2\n",
       "22    8\n",
       "23    8\n",
       "24    8\n",
       "25    6\n",
       "26    1\n",
       "27    3\n",
       "28    4\n",
       "29    8\n",
       "30    9\n",
       "31    1\n",
       "32    3\n",
       "33    4\n",
       "34    9\n",
       "dtype: int32"
      ]
     },
     "execution_count": 55,
     "metadata": {},
     "output_type": "execute_result"
    }
   ],
   "source": [
    "# creating a series\n",
    "seriesA = pd.Series(numbers)\n",
    "seriesA"
   ]
  },
  {
   "cell_type": "code",
   "execution_count": 56,
   "id": "bd8f7d75-ef23-4ef8-89ed-c72240b1c647",
   "metadata": {},
   "outputs": [
    {
     "data": {
      "text/html": [
       "<div>\n",
       "<style scoped>\n",
       "    .dataframe tbody tr th:only-of-type {\n",
       "        vertical-align: middle;\n",
       "    }\n",
       "\n",
       "    .dataframe tbody tr th {\n",
       "        vertical-align: top;\n",
       "    }\n",
       "\n",
       "    .dataframe thead th {\n",
       "        text-align: right;\n",
       "    }\n",
       "</style>\n",
       "<table border=\"1\" class=\"dataframe\">\n",
       "  <thead>\n",
       "    <tr style=\"text-align: right;\">\n",
       "      <th></th>\n",
       "      <th>0</th>\n",
       "      <th>1</th>\n",
       "      <th>2</th>\n",
       "      <th>3</th>\n",
       "      <th>4</th>\n",
       "    </tr>\n",
       "  </thead>\n",
       "  <tbody>\n",
       "    <tr>\n",
       "      <th>0</th>\n",
       "      <td>9</td>\n",
       "      <td>5</td>\n",
       "      <td>6</td>\n",
       "      <td>7</td>\n",
       "      <td>1</td>\n",
       "    </tr>\n",
       "    <tr>\n",
       "      <th>1</th>\n",
       "      <td>5</td>\n",
       "      <td>1</td>\n",
       "      <td>5</td>\n",
       "      <td>8</td>\n",
       "      <td>2</td>\n",
       "    </tr>\n",
       "    <tr>\n",
       "      <th>2</th>\n",
       "      <td>5</td>\n",
       "      <td>7</td>\n",
       "      <td>8</td>\n",
       "      <td>9</td>\n",
       "      <td>5</td>\n",
       "    </tr>\n",
       "    <tr>\n",
       "      <th>3</th>\n",
       "      <td>2</td>\n",
       "      <td>7</td>\n",
       "      <td>3</td>\n",
       "      <td>5</td>\n",
       "      <td>2</td>\n",
       "    </tr>\n",
       "    <tr>\n",
       "      <th>4</th>\n",
       "      <td>7</td>\n",
       "      <td>2</td>\n",
       "      <td>8</td>\n",
       "      <td>8</td>\n",
       "      <td>8</td>\n",
       "    </tr>\n",
       "    <tr>\n",
       "      <th>5</th>\n",
       "      <td>6</td>\n",
       "      <td>1</td>\n",
       "      <td>3</td>\n",
       "      <td>4</td>\n",
       "      <td>8</td>\n",
       "    </tr>\n",
       "    <tr>\n",
       "      <th>6</th>\n",
       "      <td>9</td>\n",
       "      <td>1</td>\n",
       "      <td>3</td>\n",
       "      <td>4</td>\n",
       "      <td>9</td>\n",
       "    </tr>\n",
       "  </tbody>\n",
       "</table>\n",
       "</div>"
      ],
      "text/plain": [
       "   0  1  2  3  4\n",
       "0  9  5  6  7  1\n",
       "1  5  1  5  8  2\n",
       "2  5  7  8  9  5\n",
       "3  2  7  3  5  2\n",
       "4  7  2  8  8  8\n",
       "5  6  1  3  4  8\n",
       "6  9  1  3  4  9"
      ]
     },
     "execution_count": 56,
     "metadata": {},
     "output_type": "execute_result"
    }
   ],
   "source": [
    "# converting a numpy array to a dataframe of given shape 7 rows and 5 columns\n",
    "pd.DataFrame(np.array(seriesA).reshape(7, 5))"
   ]
  },
  {
   "cell_type": "code",
   "execution_count": 57,
   "id": "687caa4f-3572-4603-8cef-4b97d2eb7fd0",
   "metadata": {},
   "outputs": [
    {
     "data": {
      "text/html": [
       "<div>\n",
       "<style scoped>\n",
       "    .dataframe tbody tr th:only-of-type {\n",
       "        vertical-align: middle;\n",
       "    }\n",
       "\n",
       "    .dataframe tbody tr th {\n",
       "        vertical-align: top;\n",
       "    }\n",
       "\n",
       "    .dataframe thead th {\n",
       "        text-align: right;\n",
       "    }\n",
       "</style>\n",
       "<table border=\"1\" class=\"dataframe\">\n",
       "  <thead>\n",
       "    <tr style=\"text-align: right;\">\n",
       "      <th></th>\n",
       "      <th>0</th>\n",
       "      <th>1</th>\n",
       "      <th>2</th>\n",
       "      <th>3</th>\n",
       "      <th>4</th>\n",
       "    </tr>\n",
       "  </thead>\n",
       "  <tbody>\n",
       "    <tr>\n",
       "      <th>0</th>\n",
       "      <td>9</td>\n",
       "      <td>5</td>\n",
       "      <td>6</td>\n",
       "      <td>7</td>\n",
       "      <td>1</td>\n",
       "    </tr>\n",
       "    <tr>\n",
       "      <th>1</th>\n",
       "      <td>5</td>\n",
       "      <td>1</td>\n",
       "      <td>5</td>\n",
       "      <td>8</td>\n",
       "      <td>2</td>\n",
       "    </tr>\n",
       "    <tr>\n",
       "      <th>2</th>\n",
       "      <td>5</td>\n",
       "      <td>7</td>\n",
       "      <td>8</td>\n",
       "      <td>9</td>\n",
       "      <td>5</td>\n",
       "    </tr>\n",
       "    <tr>\n",
       "      <th>3</th>\n",
       "      <td>2</td>\n",
       "      <td>7</td>\n",
       "      <td>3</td>\n",
       "      <td>5</td>\n",
       "      <td>2</td>\n",
       "    </tr>\n",
       "    <tr>\n",
       "      <th>4</th>\n",
       "      <td>7</td>\n",
       "      <td>2</td>\n",
       "      <td>8</td>\n",
       "      <td>8</td>\n",
       "      <td>8</td>\n",
       "    </tr>\n",
       "    <tr>\n",
       "      <th>5</th>\n",
       "      <td>6</td>\n",
       "      <td>1</td>\n",
       "      <td>3</td>\n",
       "      <td>4</td>\n",
       "      <td>8</td>\n",
       "    </tr>\n",
       "    <tr>\n",
       "      <th>6</th>\n",
       "      <td>9</td>\n",
       "      <td>1</td>\n",
       "      <td>3</td>\n",
       "      <td>4</td>\n",
       "      <td>9</td>\n",
       "    </tr>\n",
       "  </tbody>\n",
       "</table>\n",
       "</div>"
      ],
      "text/plain": [
       "   0  1  2  3  4\n",
       "0  9  5  6  7  1\n",
       "1  5  1  5  8  2\n",
       "2  5  7  8  9  5\n",
       "3  2  7  3  5  2\n",
       "4  7  2  8  8  8\n",
       "5  6  1  3  4  8\n",
       "6  9  1  3  4  9"
      ]
     },
     "execution_count": 57,
     "metadata": {},
     "output_type": "execute_result"
    }
   ],
   "source": [
    "# Reshaping the series seriesA into a dataframe with 7 rows and 5 columns\n",
    "pd.DataFrame(seriesA.values.reshape(7, 5))"
   ]
  },
  {
   "cell_type": "code",
   "execution_count": null,
   "id": "59374c27-3291-4247-b2d2-884b69ca32d7",
   "metadata": {},
   "outputs": [],
   "source": []
  },
  {
   "cell_type": "markdown",
   "id": "787a4ae8-7ce9-4c4f-8909-ca688c8b2095",
   "metadata": {},
   "source": [
    "# 8. How to find the positions of numbers that are multiples of 3 from a series?"
   ]
  },
  {
   "cell_type": "code",
   "execution_count": 58,
   "id": "b84c254b-a2f8-4973-8193-e897589c39cb",
   "metadata": {},
   "outputs": [],
   "source": [
    "# Find the positions of numbers that are multiples of 3 from ser."
   ]
  },
  {
   "cell_type": "code",
   "execution_count": 63,
   "id": "97c5f110-4946-4b71-8c34-6e5a541e99d2",
   "metadata": {},
   "outputs": [
    {
     "data": {
      "text/plain": [
       "RandomState(MT19937) at 0x24A92CA7D40"
      ]
     },
     "execution_count": 63,
     "metadata": {},
     "output_type": "execute_result"
    }
   ],
   "source": [
    "# input\n",
    "np.random.RandomState(100)"
   ]
  },
  {
   "cell_type": "code",
   "execution_count": 64,
   "id": "dcb4b495-56e6-4659-bb33-131075631f77",
   "metadata": {},
   "outputs": [
    {
     "data": {
      "text/plain": [
       "array([1, 3, 4, 3, 3, 1, 1, 2, 1, 3], dtype=int32)"
      ]
     },
     "execution_count": 64,
     "metadata": {},
     "output_type": "execute_result"
    }
   ],
   "source": [
    "# input\n",
    "numbers = np.random.randint(1, 5, 10)\n",
    "numbers"
   ]
  },
  {
   "cell_type": "code",
   "execution_count": 66,
   "id": "69d0453f-38eb-4f9b-b2b3-a86ef465e6e7",
   "metadata": {},
   "outputs": [
    {
     "data": {
      "text/plain": [
       "0    1\n",
       "1    3\n",
       "2    4\n",
       "3    3\n",
       "4    3\n",
       "5    1\n",
       "6    1\n",
       "7    2\n",
       "8    1\n",
       "9    3\n",
       "dtype: int32"
      ]
     },
     "execution_count": 66,
     "metadata": {},
     "output_type": "execute_result"
    }
   ],
   "source": [
    "# creating a series \n",
    "ser = pd.Series(numbers)\n",
    "ser"
   ]
  },
  {
   "cell_type": "code",
   "execution_count": 67,
   "id": "b2290409-c7b2-4e8c-8fcf-6eeb44a55c75",
   "metadata": {},
   "outputs": [
    {
     "data": {
      "text/plain": [
       "0    NaN\n",
       "1    3.0\n",
       "2    NaN\n",
       "3    3.0\n",
       "4    3.0\n",
       "5    NaN\n",
       "6    NaN\n",
       "7    NaN\n",
       "8    NaN\n",
       "9    3.0\n",
       "dtype: float64"
      ]
     },
     "execution_count": 67,
     "metadata": {},
     "output_type": "execute_result"
    }
   ],
   "source": [
    "# using where clauses\n",
    "result = ser.where(lambda x: x%3 == 0)\n",
    "result"
   ]
  },
  {
   "cell_type": "code",
   "execution_count": 68,
   "id": "6c864f05-b219-4c05-b834-d383941b8ef7",
   "metadata": {},
   "outputs": [
    {
     "data": {
      "text/plain": [
       "1    3.0\n",
       "3    3.0\n",
       "4    3.0\n",
       "9    3.0\n",
       "dtype: float64"
      ]
     },
     "execution_count": 68,
     "metadata": {},
     "output_type": "execute_result"
    }
   ],
   "source": [
    "# removing the NaN\n",
    "result.dropna()"
   ]
  },
  {
   "cell_type": "code",
   "execution_count": 69,
   "id": "cbbdee36-b28f-4394-8c64-a9493734cde3",
   "metadata": {},
   "outputs": [
    {
     "data": {
      "text/plain": [
       "array([[1],\n",
       "       [3],\n",
       "       [4],\n",
       "       [9]])"
      ]
     },
     "execution_count": 69,
     "metadata": {},
     "output_type": "execute_result"
    }
   ],
   "source": [
    "# using argwhere\n",
    "result = np.argwhere(ser%3 == 0)\n",
    "result"
   ]
  },
  {
   "cell_type": "code",
   "execution_count": null,
   "id": "e9dc13c6-4b7f-46d7-ab5e-d63f83154fb6",
   "metadata": {},
   "outputs": [],
   "source": []
  },
  {
   "cell_type": "markdown",
   "id": "7292ffc4-ad94-4931-aec0-3df5773be7c3",
   "metadata": {},
   "source": [
    "# 9. How to extract items at given positions from a series"
   ]
  },
  {
   "cell_type": "code",
   "execution_count": 70,
   "id": "3325e985-a15c-497d-b783-816e639a9a64",
   "metadata": {},
   "outputs": [],
   "source": [
    "# From ser, extract the items at positions in list pos."
   ]
  },
  {
   "cell_type": "code",
   "execution_count": 71,
   "id": "986716c9-eb81-4bb7-817d-c49cdb070310",
   "metadata": {},
   "outputs": [
    {
     "data": {
      "text/plain": [
       "['a',\n",
       " 'b',\n",
       " 'c',\n",
       " 'd',\n",
       " 'e',\n",
       " 'f',\n",
       " 'g',\n",
       " 'h',\n",
       " 'i',\n",
       " 'j',\n",
       " 'k',\n",
       " 'l',\n",
       " 'm',\n",
       " 'n',\n",
       " 'o',\n",
       " 'p',\n",
       " 'q',\n",
       " 'r',\n",
       " 's',\n",
       " 't',\n",
       " 'u',\n",
       " 'v',\n",
       " 'w',\n",
       " 'x',\n",
       " 'y',\n",
       " 'z']"
      ]
     },
     "execution_count": 71,
     "metadata": {},
     "output_type": "execute_result"
    }
   ],
   "source": [
    "# input\n",
    "alphabet_list = list('abcdefghijklmnopqrstuvwxyz')\n",
    "alphabet_list"
   ]
  },
  {
   "cell_type": "code",
   "execution_count": 72,
   "id": "af725190-a650-47ab-a0be-dbb426145f51",
   "metadata": {},
   "outputs": [
    {
     "data": {
      "text/plain": [
       "0     a\n",
       "1     b\n",
       "2     c\n",
       "3     d\n",
       "4     e\n",
       "5     f\n",
       "6     g\n",
       "7     h\n",
       "8     i\n",
       "9     j\n",
       "10    k\n",
       "11    l\n",
       "12    m\n",
       "13    n\n",
       "14    o\n",
       "15    p\n",
       "16    q\n",
       "17    r\n",
       "18    s\n",
       "19    t\n",
       "20    u\n",
       "21    v\n",
       "22    w\n",
       "23    x\n",
       "24    y\n",
       "25    z\n",
       "dtype: object"
      ]
     },
     "execution_count": 72,
     "metadata": {},
     "output_type": "execute_result"
    }
   ],
   "source": [
    "# creatinga  series\n",
    "ser = pd.Series(alphabet_list)\n",
    "ser"
   ]
  },
  {
   "cell_type": "code",
   "execution_count": 74,
   "id": "43de8fff-b524-46dd-bb75-741a5a9a56e1",
   "metadata": {},
   "outputs": [
    {
     "data": {
      "text/plain": [
       "[0, 4, 8, 14, 20]"
      ]
     },
     "execution_count": 74,
     "metadata": {},
     "output_type": "execute_result"
    }
   ],
   "source": [
    "# taking a positions\n",
    "position = [0, 4, 8, 14, 20]\n",
    "position"
   ]
  },
  {
   "cell_type": "code",
   "execution_count": 76,
   "id": "d9b39c57-1f43-4c01-bec8-9df2bc458eb8",
   "metadata": {},
   "outputs": [
    {
     "data": {
      "text/plain": [
       "0     a\n",
       "4     e\n",
       "8     i\n",
       "14    o\n",
       "20    u\n",
       "dtype: object"
      ]
     },
     "execution_count": 76,
     "metadata": {},
     "output_type": "execute_result"
    }
   ],
   "source": [
    "# using loc extracting the items\n",
    "result = ser.loc[position]\n",
    "result"
   ]
  },
  {
   "cell_type": "code",
   "execution_count": 77,
   "id": "135ee0e4-36b4-40b7-9637-0b98de7f4be0",
   "metadata": {},
   "outputs": [
    {
     "data": {
      "text/plain": [
       "0     a\n",
       "4     e\n",
       "8     i\n",
       "14    o\n",
       "20    u\n",
       "dtype: object"
      ]
     },
     "execution_count": 77,
     "metadata": {},
     "output_type": "execute_result"
    }
   ],
   "source": [
    "# using series take to extract the items \n",
    "result = ser.take(position)\n",
    "result"
   ]
  },
  {
   "cell_type": "code",
   "execution_count": null,
   "id": "4d693f20-9635-4096-891b-df6a77938806",
   "metadata": {},
   "outputs": [],
   "source": []
  },
  {
   "cell_type": "markdown",
   "id": "652a34f0-f311-4a57-aaff-4f0b8cf1f340",
   "metadata": {},
   "source": [
    "# 10. How to stack two series vertically and horizontally ?"
   ]
  },
  {
   "cell_type": "code",
   "execution_count": 79,
   "id": "b3790565-5bf5-404c-a020-5f7da5e04fc2",
   "metadata": {},
   "outputs": [],
   "source": [
    "# Stack ser1 and ser2 vertically and horizontally (to form a dataframe)."
   ]
  },
  {
   "cell_type": "code",
   "execution_count": 80,
   "id": "cea99cfa-83eb-4257-9669-bb465aa470af",
   "metadata": {},
   "outputs": [],
   "source": [
    "# input\n",
    "ser1 = pd.Series(range(5))\n",
    "ser2 = pd.Series(list('abcde'))"
   ]
  },
  {
   "cell_type": "code",
   "execution_count": 82,
   "id": "479923cc-e368-46fe-96da-87b7d5d04315",
   "metadata": {},
   "outputs": [
    {
     "data": {
      "text/plain": [
       "0    0\n",
       "1    1\n",
       "2    2\n",
       "3    3\n",
       "4    4\n",
       "0    a\n",
       "1    b\n",
       "2    c\n",
       "3    d\n",
       "4    e\n",
       "dtype: object"
      ]
     },
     "execution_count": 82,
     "metadata": {},
     "output_type": "execute_result"
    }
   ],
   "source": [
    "# Stack ser1 and ser2 vertically\n",
    "result = pd.concat([ser1, ser2], axis=0) \n",
    "result"
   ]
  },
  {
   "cell_type": "code",
   "execution_count": 83,
   "id": "0428841b-58b2-4457-acb3-1beafa15f026",
   "metadata": {},
   "outputs": [
    {
     "data": {
      "text/html": [
       "<div>\n",
       "<style scoped>\n",
       "    .dataframe tbody tr th:only-of-type {\n",
       "        vertical-align: middle;\n",
       "    }\n",
       "\n",
       "    .dataframe tbody tr th {\n",
       "        vertical-align: top;\n",
       "    }\n",
       "\n",
       "    .dataframe thead th {\n",
       "        text-align: right;\n",
       "    }\n",
       "</style>\n",
       "<table border=\"1\" class=\"dataframe\">\n",
       "  <thead>\n",
       "    <tr style=\"text-align: right;\">\n",
       "      <th></th>\n",
       "      <th>0</th>\n",
       "      <th>1</th>\n",
       "    </tr>\n",
       "  </thead>\n",
       "  <tbody>\n",
       "    <tr>\n",
       "      <th>0</th>\n",
       "      <td>0</td>\n",
       "      <td>a</td>\n",
       "    </tr>\n",
       "    <tr>\n",
       "      <th>1</th>\n",
       "      <td>1</td>\n",
       "      <td>b</td>\n",
       "    </tr>\n",
       "    <tr>\n",
       "      <th>2</th>\n",
       "      <td>2</td>\n",
       "      <td>c</td>\n",
       "    </tr>\n",
       "    <tr>\n",
       "      <th>3</th>\n",
       "      <td>3</td>\n",
       "      <td>d</td>\n",
       "    </tr>\n",
       "    <tr>\n",
       "      <th>4</th>\n",
       "      <td>4</td>\n",
       "      <td>e</td>\n",
       "    </tr>\n",
       "  </tbody>\n",
       "</table>\n",
       "</div>"
      ],
      "text/plain": [
       "   0  1\n",
       "0  0  a\n",
       "1  1  b\n",
       "2  2  c\n",
       "3  3  d\n",
       "4  4  e"
      ]
     },
     "execution_count": 83,
     "metadata": {},
     "output_type": "execute_result"
    }
   ],
   "source": [
    "# Stack ser1 and ser2 horizontally\n",
    "result = pd.concat([ser1, ser2], axis=1) \n",
    "result"
   ]
  },
  {
   "cell_type": "markdown",
   "id": "7506425b-3d48-46cc-9339-be9e6acee99b",
   "metadata": {},
   "source": [
    "# 11. How to get the positions of items of series A in another series B?"
   ]
  },
  {
   "cell_type": "code",
   "execution_count": 2,
   "id": "1087ef8f-d34f-4763-a130-46353dc5e39e",
   "metadata": {},
   "outputs": [],
   "source": [
    "# Get the positions of items of ser2 in ser1 as a list."
   ]
  },
  {
   "cell_type": "code",
   "execution_count": 5,
   "id": "00888aec-91fc-47be-8752-a041aa5364b7",
   "metadata": {},
   "outputs": [],
   "source": [
    "# input\n",
    "ser1 = pd.Series([10, 9, 6, 5, 3, 1, 12, 8, 13])\n",
    "ser2 = pd.Series([1, 3, 10, 13])"
   ]
  },
  {
   "cell_type": "code",
   "execution_count": 8,
   "id": "fedbc1f8-8e1e-44ae-b10b-b3655d3bae82",
   "metadata": {},
   "outputs": [
    {
     "data": {
      "text/plain": [
       "[5, 4, 0, 8]"
      ]
     },
     "execution_count": 8,
     "metadata": {},
     "output_type": "execute_result"
    }
   ],
   "source": [
    "# using numpy 'where' to get the positions of items of ser1 in another ser2\n",
    "result = [np.where(i == ser1)[0].tolist()[0] for i in ser2]\n",
    "result"
   ]
  },
  {
   "cell_type": "code",
   "execution_count": 9,
   "id": "e7610237-8538-438f-9de8-9fb483cd6f16",
   "metadata": {},
   "outputs": [
    {
     "data": {
      "text/plain": [
       "[5, 4, 0, 8]"
      ]
     },
     "execution_count": 9,
     "metadata": {},
     "output_type": "execute_result"
    }
   ],
   "source": [
    "# using pandas index and get location\n",
    "result = [pd.Index(ser1).get_loc(i) for i in ser2]\n",
    "result"
   ]
  },
  {
   "cell_type": "code",
   "execution_count": null,
   "id": "0458223a-99c0-457b-9142-56ab26243e5a",
   "metadata": {},
   "outputs": [],
   "source": []
  },
  {
   "cell_type": "markdown",
   "id": "1888eab6-4a3a-431f-8a1e-ac763b3f7530",
   "metadata": {},
   "source": [
    "# 12. How to compute differences of differences between consequtive numbers of a series?"
   ]
  },
  {
   "cell_type": "code",
   "execution_count": 11,
   "id": "f977082f-4477-4b7d-8593-ffa58a0c9cde",
   "metadata": {},
   "outputs": [],
   "source": [
    "# Difference of differences between the consequtive numbers of ser"
   ]
  },
  {
   "cell_type": "code",
   "execution_count": 12,
   "id": "367bc5ab-2fe3-4ea9-b65c-77e86888ddf9",
   "metadata": {},
   "outputs": [],
   "source": [
    "# input\n",
    "ser = pd.Series([1, 3, 6, 10, 15, 21, 27, 35])"
   ]
  },
  {
   "cell_type": "code",
   "execution_count": 13,
   "id": "dce27c53-821e-4dc4-9722-fc74d92a5630",
   "metadata": {},
   "outputs": [],
   "source": [
    "# Desired Output\n",
    "# [nan, 2.0, 3.0, 4.0, 5.0, 6.0, 6.0, 8.0]\n",
    "# [nan, nan, 1.0, 1.0, 1.0, 1.0, 0.0, 2.0]"
   ]
  },
  {
   "cell_type": "code",
   "execution_count": 21,
   "id": "ece79d9f-ed58-4d0c-bbe3-b38d3bb50865",
   "metadata": {},
   "outputs": [
    {
     "data": {
      "text/plain": [
       "[nan, 2.0, 3.0, 4.0, 5.0, 6.0, 6.0, 8.0]"
      ]
     },
     "execution_count": 21,
     "metadata": {},
     "output_type": "execute_result"
    }
   ],
   "source": [
    "# using pandas diff()\n",
    "ser.diff(periods = 1).tolist()\n"
   ]
  },
  {
   "cell_type": "code",
   "execution_count": 22,
   "id": "7fe71c94-8cae-4c6d-a401-ebcb3b46cbd1",
   "metadata": {},
   "outputs": [
    {
     "data": {
      "text/plain": [
       "[nan, nan, 1.0, 1.0, 1.0, 1.0, 0.0, 2.0]"
      ]
     },
     "execution_count": 22,
     "metadata": {},
     "output_type": "execute_result"
    }
   ],
   "source": [
    "ser.diff(periods = 1).diff(periods = 1).tolist()"
   ]
  },
  {
   "cell_type": "code",
   "execution_count": null,
   "id": "c83d094e-057c-444a-92cf-ec97f177fe1c",
   "metadata": {},
   "outputs": [],
   "source": []
  }
 ],
 "metadata": {
  "kernelspec": {
   "display_name": "Python 3 (ipykernel)",
   "language": "python",
   "name": "python3"
  },
  "language_info": {
   "codemirror_mode": {
    "name": "ipython",
    "version": 3
   },
   "file_extension": ".py",
   "mimetype": "text/x-python",
   "name": "python",
   "nbconvert_exporter": "python",
   "pygments_lexer": "ipython3",
   "version": "3.13.0"
  }
 },
 "nbformat": 4,
 "nbformat_minor": 5
}
