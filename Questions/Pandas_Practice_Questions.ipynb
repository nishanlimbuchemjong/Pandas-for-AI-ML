{
 "cells": [
  {
   "cell_type": "markdown",
   "id": "85b215f4-8fed-42b5-8e79-c247ca6406df",
   "metadata": {},
   "source": [
    "1. How to create a series from a list, numpy array and dict?"
   ]
  },
  {
   "cell_type": "code",
   "execution_count": 1,
   "id": "b89ea1c5-1da7-49d6-8fa3-9336b23b54b1",
   "metadata": {},
   "outputs": [],
   "source": [
    "# importing necessary python libraries\n",
    "import numpy as np\n",
    "import pandas as pd"
   ]
  },
  {
   "cell_type": "code",
   "execution_count": 4,
   "id": "749b9e33-3274-4764-8938-aea9517b4ac9",
   "metadata": {},
   "outputs": [],
   "source": [
    "# inputs\n",
    "word_list = list(['Nishan Limbu', 'Saru Limbu', 'Priya Limbu'])\n",
    "numpy_array = np.arange(1, 11)\n",
    "alphabet_dictionary = {'A': 0, 'B': 1, 'C': 2, 'D':3, 'E':4, 'F':5}"
   ]
  },
  {
   "cell_type": "code",
   "execution_count": 5,
   "id": "860622da-acd2-4c1b-8541-d31f6c120858",
   "metadata": {},
   "outputs": [],
   "source": [
    "# creating a series from the above inputs\n",
    "series1 = pd.Series(word_list)\n",
    "series2 = pd.Series(numpy_array)\n",
    "series3 = pd.Series(alphabet_dictionary)\n"
   ]
  },
  {
   "cell_type": "code",
   "execution_count": 6,
   "id": "36cf8b3f-15b4-45de-b3d5-1db4fe112deb",
   "metadata": {},
   "outputs": [
    {
     "name": "stdout",
     "output_type": "stream",
     "text": [
      "0    Nishan Limbu\n",
      "1      Saru Limbu\n",
      "2     Priya Limbu\n",
      "dtype: object\n",
      "0     1\n",
      "1     2\n",
      "2     3\n",
      "3     4\n",
      "4     5\n",
      "5     6\n",
      "6     7\n",
      "7     8\n",
      "8     9\n",
      "9    10\n",
      "dtype: int64\n",
      "A    0\n",
      "B    1\n",
      "C    2\n",
      "D    3\n",
      "E    4\n",
      "F    5\n",
      "dtype: int64\n"
     ]
    }
   ],
   "source": [
    "# printing all the series\n",
    "print(series1)\n",
    "print(series2)\n",
    "print(series3)"
   ]
  },
  {
   "cell_type": "code",
   "execution_count": null,
   "id": "59bc3a41-529a-4ef0-968d-e359e167b45e",
   "metadata": {},
   "outputs": [],
   "source": []
  }
 ],
 "metadata": {
  "kernelspec": {
   "display_name": "Python 3 (ipykernel)",
   "language": "python",
   "name": "python3"
  },
  "language_info": {
   "codemirror_mode": {
    "name": "ipython",
    "version": 3
   },
   "file_extension": ".py",
   "mimetype": "text/x-python",
   "name": "python",
   "nbconvert_exporter": "python",
   "pygments_lexer": "ipython3",
   "version": "3.13.0"
  }
 },
 "nbformat": 4,
 "nbformat_minor": 5
}
